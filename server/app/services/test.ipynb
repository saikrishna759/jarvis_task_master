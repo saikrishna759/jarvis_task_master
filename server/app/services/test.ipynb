{
 "cells": [
  {
   "cell_type": "code",
   "execution_count": 11,
   "metadata": {},
   "outputs": [
    {
     "name": "stderr",
     "output_type": "stream",
     "text": [
      "  % Total    % Received % Xferd  Average Speed   Time    Time     Time  Current\n",
      "                                 Dload  Upload   Total   Spent    Left  Speed\n",
      "\n",
      "  0     0    0     0    0     0      0      0 --:--:-- --:--:-- --:--:--     0\n",
      "100   105  100    54  100    51     60     56 --:--:-- --:--:-- --:--:--   116\n",
      "100   105  100    54  100    51     60     56 --:--:-- --:--:-- --:--:--   116\n"
     ]
    },
    {
     "name": "stdout",
     "output_type": "stream",
     "text": [
      "{\"task\":\"play_music\",\"arguments\":{\"song\":\"teri meri\"}}\n"
     ]
    }
   ],
   "source": [
    "!curl -X POST -H \"Content-Type: application/json\" -d \"{\\\"command\\\": \\\"play the song teri meri from spotify\\\"}\" http://localhost:8000/api/gpt4/interpret"
   ]
  },
  {
   "cell_type": "code",
   "execution_count": 3,
   "metadata": {},
   "outputs": [
    {
     "name": "stdout",
     "output_type": "stream",
     "text": [
      "{\"detail\":\"Not Found\"}\n"
     ]
    },
    {
     "name": "stderr",
     "output_type": "stream",
     "text": [
      "  % Total    % Received % Xferd  Average Speed   Time    Time     Time  Current\n",
      "                                 Dload  Upload   Total   Spent    Left  Speed\n",
      "\n",
      "  0     0    0     0    0     0      0      0 --:--:-- --:--:-- --:--:--     0\n",
      "100    24  100    22  100     2     96      8 --:--:-- --:--:-- --:--:--   105\n"
     ]
    }
   ],
   "source": [
    "!curl -X POST -H \"Content-Type: application/json\" -d \"{}\" http://localhost:8000/api/calender/today\n"
   ]
  },
  {
   "cell_type": "code",
   "execution_count": 21,
   "metadata": {},
   "outputs": [
    {
     "name": "stdout",
     "output_type": "stream",
     "text": [
      "{\"detail\":\"Number or message missing\"}\n"
     ]
    },
    {
     "name": "stderr",
     "output_type": "stream",
     "text": [
      "  % Total    % Received % Xferd  Average Speed   Time    Time     Time  Current\n",
      "                                 Dload  Upload   Total   Spent    Left  Speed\n",
      "\n",
      "  0     0    0     0    0     0      0      0 --:--:-- --:--:-- --:--:--     0\n",
      "100    84  100    38  100    46    187    226 --:--:-- --:--:-- --:--:--   415\n"
     ]
    }
   ],
   "source": [
    "\n",
    "!curl -X POST -H \"Content-Type: application/json\" -d \"{\\\"number\\\": \\\"+16829996778\\\",\\\"message\\\": \\\"em dng\\\"}\" http://localhost:8000/api/whatsapp/send\n"
   ]
  },
  {
   "cell_type": "code",
   "execution_count": 8,
   "metadata": {},
   "outputs": [],
   "source": [
    "from datetime import datetime, timedelta\n",
    "import pytz\n",
    "from google.oauth2.credentials import Credentials\n",
    "from googleapiclient.discovery import build\n",
    "CALENDAR_TOKEN_PATH = r\"C:\\Users\\saisa\\OneDrive\\Desktop\\personal projects\\Task_Master\\server\\app\\services\\token.json\"\n",
    "\n",
    "SCOPES = ['https://www.googleapis.com/auth/calendar.readonly']\n"
   ]
  },
  {
   "cell_type": "code",
   "execution_count": 9,
   "metadata": {},
   "outputs": [],
   "source": [
    "creds = Credentials.from_authorized_user_file(CALENDAR_TOKEN_PATH, SCOPES)\n",
    "service = build(\"calendar\", \"v3\", credentials=creds)"
   ]
  },
  {
   "cell_type": "code",
   "execution_count": 10,
   "metadata": {},
   "outputs": [
    {
     "name": "stdout",
     "output_type": "stream",
     "text": [
      "2025-04-04T07:27:34.206126Z\n"
     ]
    }
   ],
   "source": [
    "now = datetime.utcnow().isoformat() + \"Z\"\n",
    "print(now)"
   ]
  },
  {
   "cell_type": "code",
   "execution_count": 11,
   "metadata": {},
   "outputs": [
    {
     "data": {
      "text/plain": [
       "'2025-04-05T07:27:51.522059Z'"
      ]
     },
     "execution_count": 11,
     "metadata": {},
     "output_type": "execute_result"
    }
   ],
   "source": [
    "end_of_day = (datetime.utcnow() + timedelta(days=1)).isoformat() + \"Z\"\n",
    "end_of_day"
   ]
  },
  {
   "cell_type": "code",
   "execution_count": 12,
   "metadata": {},
   "outputs": [],
   "source": [
    "events_result = service.events().list(\n",
    "    calendarId='primary',\n",
    "    timeMin=now,\n",
    "    timeMax=end_of_day,\n",
    "    singleEvents=True,\n",
    "    orderBy='startTime'\n",
    ").execute()"
   ]
  },
  {
   "cell_type": "code",
   "execution_count": 14,
   "metadata": {},
   "outputs": [],
   "source": [
    "tz = pytz.timezone(\"America/Chicago\")\n",
    "now = datetime.now(tz)\n",
    "start_of_day = tz.localize(datetime(now.year, now.month, now.day, 0, 0, 0))\n",
    "end_of_day = start_of_day + timedelta(days=1)\n",
    "\n",
    "events_result = service.events().list(\n",
    "    calendarId='primary',\n",
    "    timeMin=start_of_day.isoformat(),\n",
    "    timeMax=end_of_day.isoformat(),\n",
    "    singleEvents=True,\n",
    "    orderBy='startTime'\n",
    ").execute()\n"
   ]
  },
  {
   "cell_type": "code",
   "execution_count": 16,
   "metadata": {},
   "outputs": [
    {
     "data": {
      "text/plain": [
       "{'kind': 'calendar#events',\n",
       " 'etag': '\"p33nt7dkhj2uoo0o\"',\n",
       " 'summary': 'sai.sanniboina@gmail.com',\n",
       " 'description': '',\n",
       " 'updated': '2025-04-04T01:07:21.435Z',\n",
       " 'timeZone': 'America/Chicago',\n",
       " 'accessRole': 'owner',\n",
       " 'defaultReminders': [{'method': 'popup', 'minutes': 30}],\n",
       " 'items': []}"
      ]
     },
     "execution_count": 16,
     "metadata": {},
     "output_type": "execute_result"
    }
   ],
   "source": [
    "events_result"
   ]
  },
  {
   "cell_type": "code",
   "execution_count": null,
   "metadata": {},
   "outputs": [],
   "source": [
    "\n",
    "async def get_today_events():\n",
    "    try:\n",
    "        creds = Credentials.from_authorized_user_file(CALENDAR_TOKEN_PATH, SCOPES)\n",
    "        service = build(\"calendar\", \"v3\", credentials=creds)\n",
    "\n",
    "        now = datetime.utcnow().isoformat() + \"Z\"\n",
    "        print(now)\n",
    "        end_of_day = (datetime.utcnow() + timedelta(days=1)).isoformat() + \"Z\"\n",
    "\n",
    "        events_result = service.events().list(\n",
    "            calendarId='primary',\n",
    "            timeMin=now,\n",
    "            timeMax=end_of_day,\n",
    "            singleEvents=True,\n",
    "            orderBy='startTime'\n",
    "        ).execute()\n",
    "        print(events_result)\n",
    "\n",
    "        events = events_result.get('items', [])\n",
    "        return {\"status\": \"success\", \"events\": events}\n",
    "    except Exception as e:\n",
    "        return {\"status\": \"error\", \"message\": str(e)}"
   ]
  },
  {
   "cell_type": "code",
   "execution_count": 1,
   "metadata": {},
   "outputs": [
    {
     "name": "stdout",
     "output_type": "stream",
     "text": [
      "Collecting google-api-python-client\n",
      "  Downloading google_api_python_client-2.166.0-py2.py3-none-any.whl.metadata (6.6 kB)\n",
      "Collecting google-auth-httplib2\n",
      "  Using cached google_auth_httplib2-0.2.0-py2.py3-none-any.whl.metadata (2.2 kB)\n",
      "Collecting google-auth-oauthlib\n",
      "  Downloading google_auth_oauthlib-1.2.1-py2.py3-none-any.whl.metadata (2.7 kB)\n",
      "Collecting httplib2<1.0.0,>=0.19.0 (from google-api-python-client)\n",
      "  Using cached httplib2-0.22.0-py3-none-any.whl.metadata (2.6 kB)\n",
      "Collecting google-auth!=2.24.0,!=2.25.0,<3.0.0,>=1.32.0 (from google-api-python-client)\n",
      "  Downloading google_auth-2.38.0-py2.py3-none-any.whl.metadata (4.8 kB)\n",
      "Collecting google-api-core!=2.0.*,!=2.1.*,!=2.2.*,!=2.3.0,<3.0.0,>=1.31.5 (from google-api-python-client)\n",
      "  Downloading google_api_core-2.24.2-py3-none-any.whl.metadata (3.0 kB)\n",
      "Collecting uritemplate<5,>=3.0.1 (from google-api-python-client)\n",
      "  Using cached uritemplate-4.1.1-py2.py3-none-any.whl.metadata (2.9 kB)\n",
      "Collecting requests-oauthlib>=0.7.0 (from google-auth-oauthlib)\n",
      "  Downloading requests_oauthlib-2.0.0-py2.py3-none-any.whl.metadata (11 kB)\n",
      "Collecting googleapis-common-protos<2.0.0,>=1.56.2 (from google-api-core!=2.0.*,!=2.1.*,!=2.2.*,!=2.3.0,<3.0.0,>=1.31.5->google-api-python-client)\n",
      "  Downloading googleapis_common_protos-1.69.2-py3-none-any.whl.metadata (9.3 kB)\n",
      "Collecting protobuf!=3.20.0,!=3.20.1,!=4.21.0,!=4.21.1,!=4.21.2,!=4.21.3,!=4.21.4,!=4.21.5,<7.0.0,>=3.19.5 (from google-api-core!=2.0.*,!=2.1.*,!=2.2.*,!=2.3.0,<3.0.0,>=1.31.5->google-api-python-client)\n",
      "  Downloading protobuf-6.30.2-cp310-abi3-win_amd64.whl.metadata (593 bytes)\n",
      "Collecting proto-plus<2.0.0,>=1.22.3 (from google-api-core!=2.0.*,!=2.1.*,!=2.2.*,!=2.3.0,<3.0.0,>=1.31.5->google-api-python-client)\n",
      "  Downloading proto_plus-1.26.1-py3-none-any.whl.metadata (2.2 kB)\n",
      "Requirement already satisfied: requests<3.0.0,>=2.18.0 in c:\\users\\saisa\\anaconda3_2\\envs\\werewolf\\lib\\site-packages (from google-api-core!=2.0.*,!=2.1.*,!=2.2.*,!=2.3.0,<3.0.0,>=1.31.5->google-api-python-client) (2.32.3)\n",
      "Collecting cachetools<6.0,>=2.0.0 (from google-auth!=2.24.0,!=2.25.0,<3.0.0,>=1.32.0->google-api-python-client)\n",
      "  Using cached cachetools-5.5.2-py3-none-any.whl.metadata (5.4 kB)\n",
      "Collecting pyasn1-modules>=0.2.1 (from google-auth!=2.24.0,!=2.25.0,<3.0.0,>=1.32.0->google-api-python-client)\n",
      "  Downloading pyasn1_modules-0.4.2-py3-none-any.whl.metadata (3.5 kB)\n",
      "Collecting rsa<5,>=3.1.4 (from google-auth!=2.24.0,!=2.25.0,<3.0.0,>=1.32.0->google-api-python-client)\n",
      "  Using cached rsa-4.9-py3-none-any.whl.metadata (4.2 kB)\n",
      "Requirement already satisfied: pyparsing!=3.0.0,!=3.0.1,!=3.0.2,!=3.0.3,<4,>=2.4.2 in c:\\users\\saisa\\anaconda3_2\\envs\\werewolf\\lib\\site-packages (from httplib2<1.0.0,>=0.19.0->google-api-python-client) (3.2.0)\n",
      "Collecting oauthlib>=3.0.0 (from requests-oauthlib>=0.7.0->google-auth-oauthlib)\n",
      "  Downloading oauthlib-3.2.2-py3-none-any.whl.metadata (7.5 kB)\n",
      "Collecting pyasn1<0.7.0,>=0.6.1 (from pyasn1-modules>=0.2.1->google-auth!=2.24.0,!=2.25.0,<3.0.0,>=1.32.0->google-api-python-client)\n",
      "  Downloading pyasn1-0.6.1-py3-none-any.whl.metadata (8.4 kB)\n",
      "Requirement already satisfied: charset-normalizer<4,>=2 in c:\\users\\saisa\\anaconda3_2\\envs\\werewolf\\lib\\site-packages (from requests<3.0.0,>=2.18.0->google-api-core!=2.0.*,!=2.1.*,!=2.2.*,!=2.3.0,<3.0.0,>=1.31.5->google-api-python-client) (3.4.0)\n",
      "Requirement already satisfied: idna<4,>=2.5 in c:\\users\\saisa\\anaconda3_2\\envs\\werewolf\\lib\\site-packages (from requests<3.0.0,>=2.18.0->google-api-core!=2.0.*,!=2.1.*,!=2.2.*,!=2.3.0,<3.0.0,>=1.31.5->google-api-python-client) (3.10)\n",
      "Requirement already satisfied: urllib3<3,>=1.21.1 in c:\\users\\saisa\\anaconda3_2\\envs\\werewolf\\lib\\site-packages (from requests<3.0.0,>=2.18.0->google-api-core!=2.0.*,!=2.1.*,!=2.2.*,!=2.3.0,<3.0.0,>=1.31.5->google-api-python-client) (2.2.3)\n",
      "Requirement already satisfied: certifi>=2017.4.17 in c:\\users\\saisa\\anaconda3_2\\envs\\werewolf\\lib\\site-packages (from requests<3.0.0,>=2.18.0->google-api-core!=2.0.*,!=2.1.*,!=2.2.*,!=2.3.0,<3.0.0,>=1.31.5->google-api-python-client) (2024.8.30)\n",
      "Downloading google_api_python_client-2.166.0-py2.py3-none-any.whl (13.2 MB)\n",
      "   ---------------------------------------- 0.0/13.2 MB ? eta -:--:--\n",
      "   ---------------------------------------- 0.1/13.2 MB 7.5 MB/s eta 0:00:02\n",
      "   - -------------------------------------- 0.3/13.2 MB 5.3 MB/s eta 0:00:03\n",
      "   -- ------------------------------------- 0.7/13.2 MB 6.3 MB/s eta 0:00:02\n",
      "   --- ------------------------------------ 1.1/13.2 MB 7.5 MB/s eta 0:00:02\n",
      "   ---- ----------------------------------- 1.5/13.2 MB 8.2 MB/s eta 0:00:02\n",
      "   ----- ---------------------------------- 1.9/13.2 MB 8.7 MB/s eta 0:00:02\n",
      "   ------- -------------------------------- 2.4/13.2 MB 9.5 MB/s eta 0:00:02\n",
      "   -------- ------------------------------- 2.9/13.2 MB 9.2 MB/s eta 0:00:02\n",
      "   --------- ------------------------------ 3.2/13.2 MB 9.3 MB/s eta 0:00:02\n",
      "   ---------- ----------------------------- 3.5/13.2 MB 9.3 MB/s eta 0:00:02\n",
      "   ------------ --------------------------- 4.0/13.2 MB 9.4 MB/s eta 0:00:01\n",
      "   ------------ --------------------------- 4.3/13.2 MB 9.4 MB/s eta 0:00:01\n",
      "   ------------- -------------------------- 4.5/13.2 MB 9.4 MB/s eta 0:00:01\n",
      "   -------------- ------------------------- 4.6/13.2 MB 9.2 MB/s eta 0:00:01\n",
      "   --------------- ------------------------ 5.2/13.2 MB 9.2 MB/s eta 0:00:01\n",
      "   --------------- ------------------------ 5.3/13.2 MB 9.1 MB/s eta 0:00:01\n",
      "   ---------------- ----------------------- 5.5/13.2 MB 8.6 MB/s eta 0:00:01\n",
      "   ----------------- ---------------------- 5.8/13.2 MB 8.4 MB/s eta 0:00:01\n",
      "   ------------------ --------------------- 6.0/13.2 MB 8.3 MB/s eta 0:00:01\n",
      "   ------------------ --------------------- 6.0/13.2 MB 8.0 MB/s eta 0:00:01\n",
      "   ------------------- -------------------- 6.3/13.2 MB 7.9 MB/s eta 0:00:01\n",
      "   ------------------- -------------------- 6.3/13.2 MB 7.6 MB/s eta 0:00:01\n",
      "   -------------------- ------------------- 6.6/13.2 MB 7.7 MB/s eta 0:00:01\n",
      "   -------------------- ------------------- 6.9/13.2 MB 7.6 MB/s eta 0:00:01\n",
      "   --------------------- ------------------ 7.2/13.2 MB 7.5 MB/s eta 0:00:01\n",
      "   ---------------------- ----------------- 7.5/13.2 MB 7.5 MB/s eta 0:00:01\n",
      "   ----------------------- ---------------- 7.8/13.2 MB 7.5 MB/s eta 0:00:01\n",
      "   ------------------------ --------------- 8.0/13.2 MB 7.5 MB/s eta 0:00:01\n",
      "   ------------------------- -------------- 8.4/13.2 MB 7.4 MB/s eta 0:00:01\n",
      "   -------------------------- ------------- 8.7/13.2 MB 7.5 MB/s eta 0:00:01\n",
      "   --------------------------- ------------ 8.9/13.2 MB 7.4 MB/s eta 0:00:01\n",
      "   --------------------------- ------------ 9.2/13.2 MB 7.4 MB/s eta 0:00:01\n",
      "   ---------------------------- ----------- 9.4/13.2 MB 7.3 MB/s eta 0:00:01\n",
      "   ----------------------------- ---------- 9.6/13.2 MB 7.2 MB/s eta 0:00:01\n",
      "   ----------------------------- ---------- 9.8/13.2 MB 7.2 MB/s eta 0:00:01\n",
      "   ------------------------------ --------- 10.0/13.2 MB 7.1 MB/s eta 0:00:01\n",
      "   ------------------------------- -------- 10.4/13.2 MB 7.3 MB/s eta 0:00:01\n",
      "   -------------------------------- ------- 10.6/13.2 MB 7.1 MB/s eta 0:00:01\n",
      "   --------------------------------- ------ 10.9/13.2 MB 7.1 MB/s eta 0:00:01\n",
      "   --------------------------------- ------ 11.1/13.2 MB 7.0 MB/s eta 0:00:01\n",
      "   ---------------------------------- ----- 11.3/13.2 MB 7.1 MB/s eta 0:00:01\n",
      "   ---------------------------------- ----- 11.5/13.2 MB 6.8 MB/s eta 0:00:01\n",
      "   ----------------------------------- ---- 11.7/13.2 MB 6.6 MB/s eta 0:00:01\n",
      "   ------------------------------------ --- 11.9/13.2 MB 6.7 MB/s eta 0:00:01\n",
      "   ------------------------------------ --- 12.1/13.2 MB 6.5 MB/s eta 0:00:01\n",
      "   ------------------------------------- -- 12.3/13.2 MB 6.5 MB/s eta 0:00:01\n",
      "   ------------------------------------- -- 12.3/13.2 MB 6.4 MB/s eta 0:00:01\n",
      "   -------------------------------------- - 12.6/13.2 MB 6.2 MB/s eta 0:00:01\n",
      "   -------------------------------------- - 12.7/13.2 MB 6.2 MB/s eta 0:00:01\n",
      "   ---------------------------------------  13.0/13.2 MB 6.1 MB/s eta 0:00:01\n",
      "   ---------------------------------------  13.1/13.2 MB 6.0 MB/s eta 0:00:01\n",
      "   ---------------------------------------- 13.2/13.2 MB 5.9 MB/s eta 0:00:00\n",
      "Downloading google_auth_httplib2-0.2.0-py2.py3-none-any.whl (9.3 kB)\n",
      "Downloading google_auth_oauthlib-1.2.1-py2.py3-none-any.whl (24 kB)\n",
      "Downloading google_api_core-2.24.2-py3-none-any.whl (160 kB)\n",
      "   ---------------------------------------- 0.0/160.1 kB ? eta -:--:--\n",
      "   -------------------------------------- - 153.6/160.1 kB 4.6 MB/s eta 0:00:01\n",
      "   ---------------------------------------- 160.1/160.1 kB 3.2 MB/s eta 0:00:00\n",
      "Downloading google_auth-2.38.0-py2.py3-none-any.whl (210 kB)\n",
      "   ---------------------------------------- 0.0/210.8 kB ? eta -:--:--\n",
      "   -------------------------------------- - 204.8/210.8 kB 6.1 MB/s eta 0:00:01\n",
      "   ---------------------------------------- 210.8/210.8 kB 4.3 MB/s eta 0:00:00\n",
      "Downloading httplib2-0.22.0-py3-none-any.whl (96 kB)\n",
      "   ---------------------------------------- 0.0/96.9 kB ? eta -:--:--\n",
      "   ---------------------------------------- 96.9/96.9 kB 5.8 MB/s eta 0:00:00\n",
      "Downloading requests_oauthlib-2.0.0-py2.py3-none-any.whl (24 kB)\n",
      "Using cached uritemplate-4.1.1-py2.py3-none-any.whl (10 kB)\n",
      "Using cached cachetools-5.5.2-py3-none-any.whl (10 kB)\n",
      "Downloading googleapis_common_protos-1.69.2-py3-none-any.whl (293 kB)\n",
      "   ---------------------------------------- 0.0/293.2 kB ? eta -:--:--\n",
      "   ------------------------------ --------- 225.3/293.2 kB 6.9 MB/s eta 0:00:01\n",
      "   ---------------------------------------- 293.2/293.2 kB 6.0 MB/s eta 0:00:00\n",
      "Downloading oauthlib-3.2.2-py3-none-any.whl (151 kB)\n",
      "   ---------------------------------------- 0.0/151.7 kB ? eta -:--:--\n",
      "   ---------------------------------------- 151.7/151.7 kB 8.8 MB/s eta 0:00:00\n",
      "Downloading proto_plus-1.26.1-py3-none-any.whl (50 kB)\n",
      "   ---------------------------------------- 0.0/50.2 kB ? eta -:--:--\n",
      "   ---------------------------------------- 50.2/50.2 kB ? eta 0:00:00\n",
      "Downloading protobuf-6.30.2-cp310-abi3-win_amd64.whl (431 kB)\n",
      "   ---------------------------------------- 0.0/431.0 kB ? eta -:--:--\n",
      "   ---------------- ----------------------- 174.1/431.0 kB 5.1 MB/s eta 0:00:01\n",
      "   ------------------------------------ --- 389.1/431.0 kB 4.8 MB/s eta 0:00:01\n",
      "   ---------------------------------------- 431.0/431.0 kB 4.5 MB/s eta 0:00:00\n",
      "Downloading pyasn1_modules-0.4.2-py3-none-any.whl (181 kB)\n",
      "   ---------------------------------------- 0.0/181.3 kB ? eta -:--:--\n",
      "   ---------------------------------------- 181.3/181.3 kB 5.5 MB/s eta 0:00:00\n",
      "Downloading rsa-4.9-py3-none-any.whl (34 kB)\n",
      "Downloading pyasn1-0.6.1-py3-none-any.whl (83 kB)\n",
      "   ---------------------------------------- 0.0/83.1 kB ? eta -:--:--\n",
      "   ---------------------------------------- 83.1/83.1 kB ? eta 0:00:00\n",
      "Installing collected packages: uritemplate, pyasn1, protobuf, oauthlib, httplib2, cachetools, rsa, requests-oauthlib, pyasn1-modules, proto-plus, googleapis-common-protos, google-auth, google-auth-oauthlib, google-auth-httplib2, google-api-core, google-api-python-client\n",
      "Successfully installed cachetools-5.5.2 google-api-core-2.24.2 google-api-python-client-2.166.0 google-auth-2.38.0 google-auth-httplib2-0.2.0 google-auth-oauthlib-1.2.1 googleapis-common-protos-1.69.2 httplib2-0.22.0 oauthlib-3.2.2 proto-plus-1.26.1 protobuf-6.30.2 pyasn1-0.6.1 pyasn1-modules-0.4.2 requests-oauthlib-2.0.0 rsa-4.9 uritemplate-4.1.1\n"
     ]
    }
   ],
   "source": [
    "!pip install --upgrade google-api-python-client google-auth-httplib2 google-auth-oauthlib\n"
   ]
  },
  {
   "cell_type": "code",
   "execution_count": null,
   "metadata": {},
   "outputs": [
    {
     "name": "stdout",
     "output_type": "stream",
     "text": [
      "Please visit this URL to authorize this application: https://accounts.google.com/o/oauth2/auth?response_type=code&client_id=302346949059-p8ikfr8b7libgb788guqpsm5qr67q436.apps.googleusercontent.com&redirect_uri=http%3A%2F%2Flocalhost%3A54832%2F&scope=https%3A%2F%2Fwww.googleapis.com%2Fauth%2Fcalendar&state=d2XZlvBednHjg57wFldfOjudzlnLqx&access_type=offline\n"
     ]
    }
   ],
   "source": [
    "from __future__ import print_function\n",
    "import os.path\n",
    "from google.auth.transport.requests import Request\n",
    "from google.oauth2.credentials import Credentials\n",
    "from google_auth_oauthlib.flow import InstalledAppFlow\n",
    "from googleapiclient.discovery import build\n",
    "\n",
    "# Use the same scopes as your backend calendar_service.py\n",
    "SCOPES = ['https://www.googleapis.com/auth/calendar']\n",
    "\n",
    "def main():\n",
    "    creds = None\n",
    "    if os.path.exists('token.json'):\n",
    "        creds = Credentials.from_authorized_user_file('token.json', SCOPES)\n",
    "\n",
    "    if not creds or not creds.valid:\n",
    "        if creds and creds.expired and creds.refresh_token:\n",
    "            creds.refresh(Request())\n",
    "        else:\n",
    "            flow = InstalledAppFlow.from_client_secrets_file(\n",
    "                'credentials.json', SCOPES)\n",
    "            creds = flow.run_local_server(port=0)\n",
    "\n",
    "        with open('token.json', 'w') as token:\n",
    "            token.write(creds.to_json())\n",
    "\n",
    "    service = build('calendar', 'v3', credentials=creds)\n",
    "    print(\"✅ Token generated and calendar access is working!\")\n",
    "\n",
    "if __name__ == '__main__':\n",
    "    main()\n"
   ]
  },
  {
   "cell_type": "code",
   "execution_count": 5,
   "metadata": {},
   "outputs": [
    {
     "name": "stdout",
     "output_type": "stream",
     "text": [
      "Requirement already satisfied: google-auth in c:\\users\\saisa\\anaconda3_2\\lib\\site-packages (2.38.0)\n",
      "Requirement already satisfied: cachetools<6.0,>=2.0.0 in c:\\users\\saisa\\anaconda3_2\\lib\\site-packages (from google-auth) (5.5.2)\n",
      "Requirement already satisfied: pyasn1-modules>=0.2.1 in c:\\users\\saisa\\anaconda3_2\\lib\\site-packages (from google-auth) (0.2.8)\n",
      "Requirement already satisfied: rsa<5,>=3.1.4 in c:\\users\\saisa\\anaconda3_2\\lib\\site-packages (from google-auth) (4.9)\n",
      "Requirement already satisfied: pyasn1<0.5.0,>=0.4.6 in c:\\users\\saisa\\anaconda3_2\\lib\\site-packages (from pyasn1-modules>=0.2.1->google-auth) (0.4.8)\n"
     ]
    }
   ],
   "source": [
    "!pip install google-auth"
   ]
  },
  {
   "cell_type": "code",
   "execution_count": 1,
   "metadata": {},
   "outputs": [
    {
     "name": "stdout",
     "output_type": "stream",
     "text": [
      "Please visit this URL to authorize this application: https://accounts.google.com/o/oauth2/auth?response_type=code&client_id=302346949059-v8r3lh14roak33ncrb4j7ia1eljfm8cp.apps.googleusercontent.com&redirect_uri=http%3A%2F%2Flocalhost%3A55508%2F&scope=https%3A%2F%2Fwww.googleapis.com%2Fauth%2Fcalendar&state=HSfGoy5dkjtQufOfdEOscX5Ph4gPQ7&access_type=offline\n",
      "✅ Token generated and calendar access is working!\n"
     ]
    }
   ],
   "source": [
    "from __future__ import print_function\n",
    "import os.path\n",
    "from google.auth.transport.requests import Request\n",
    "from google.oauth2.credentials import Credentials\n",
    "from google_auth_oauthlib.flow import InstalledAppFlow\n",
    "from googleapiclient.discovery import build\n",
    "\n",
    "# Use the same scopes as your backend calendar_service.py\n",
    "SCOPES = ['https://www.googleapis.com/auth/calendar']\n",
    "\n",
    "def main():\n",
    "    creds = None\n",
    "    if os.path.exists('token.json'):\n",
    "        creds = Credentials.from_authorized_user_file('token.json', SCOPES)\n",
    "\n",
    "    if not creds or not creds.valid:\n",
    "        if creds and creds.expired and creds.refresh_token:\n",
    "            creds.refresh(Request())\n",
    "        else:\n",
    "            flow = InstalledAppFlow.from_client_secrets_file(\n",
    "                'credentials.json', SCOPES)\n",
    "            creds = flow.run_local_server(port=0)\n",
    "\n",
    "        with open('token.json', 'w') as token:\n",
    "            token.write(creds.to_json())\n",
    "\n",
    "    service = build('calendar', 'v3', credentials=creds)\n",
    "    print(\"✅ Token generated and calendar access is working!\")\n",
    "\n",
    "if __name__ == '__main__':\n",
    "    main()\n"
   ]
  },
  {
   "cell_type": "code",
   "execution_count": null,
   "metadata": {},
   "outputs": [],
   "source": []
  }
 ],
 "metadata": {
  "kernelspec": {
   "display_name": "werewolf",
   "language": "python",
   "name": "python3"
  },
  "language_info": {
   "codemirror_mode": {
    "name": "ipython",
    "version": 3
   },
   "file_extension": ".py",
   "mimetype": "text/x-python",
   "name": "python",
   "nbconvert_exporter": "python",
   "pygments_lexer": "ipython3",
   "version": "3.10.0"
  }
 },
 "nbformat": 4,
 "nbformat_minor": 2
}
